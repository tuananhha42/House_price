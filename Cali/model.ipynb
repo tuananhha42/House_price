{
 "cells": [
  {
   "cell_type": "code",
   "execution_count": 1,
   "metadata": {},
   "outputs": [],
   "source": [
    "import pickle\n",
    "\n",
    "# Tải mô hình từ file\n",
    "with open('Linear.pkl', 'rb') as model_file:\n",
    "    loaded_model = pickle.load(model_file)\n",
    "\n",
    "# Bây giờ `loaded_model` có thể được sử dụng để đưa ra dự đoán trên dữ liệu mới"
   ]
  },
  {
   "cell_type": "code",
   "execution_count": 2,
   "metadata": {},
   "outputs": [
    {
     "name": "stdout",
     "output_type": "stream",
     "text": [
      "[[0.21115538 0.5674814  0.78431373 0.02233074 0.01986344 0.00894083\n",
      "  0.02055583 0.53966842 0.         0.         0.         1.\n",
      "  0.        ]]\n",
      "Dự đoán giá trị: [410584.35930771]\n"
     ]
    },
    {
     "name": "stderr",
     "output_type": "stream",
     "text": [
      "c:\\Users\\duc\\.conda\\envs\\anhkun\\lib\\site-packages\\sklearn\\base.py:450: UserWarning: X does not have valid feature names, but MinMaxScaler was fitted with feature names\n",
      "  warnings.warn(\n",
      "c:\\Users\\duc\\.conda\\envs\\anhkun\\lib\\site-packages\\sklearn\\base.py:450: UserWarning: X does not have valid feature names, but LinearRegression was fitted with feature names\n",
      "  warnings.warn(\n"
     ]
    }
   ],
   "source": [
    "from sklearn.preprocessing import MinMaxScaler\n",
    "import numpy as np\n",
    "import pandas as pd\n",
    "\n",
    "# 2. Nạp mô hình chuẩn hóa Min-Max từ tệp \"minmax_scaler_x.pkl\"\n",
    "with open(\"minmax_scaler_x.pkl\", \"rb\") as scaler_file:\n",
    "    loaded_minmax_scale = pickle.load(scaler_file)\n",
    "\n",
    "# Dữ liệu đầu vào\n",
    "input_data = np.array([-122.23, 37.88, 41.0, 880.0, 129.0, 322.0, 126.0, 8.3252, 0, 0, 0, 1, 0])\n",
    "\n",
    "# 3. Chuẩn hóa dữ liệu input_data bằng mô hình chuẩn hóa Min-Max\n",
    "input_data_normalized = loaded_minmax_scale.transform(input_data.reshape(1, -1))\n",
    "print(input_data_normalized)\n",
    "# 4. Dự đoán giá trị bằng mô hình Linear Regressor đã nạp\n",
    "prediction = loaded_model.predict(input_data_normalized)\n",
    "\n",
    "print(\"Dự đoán giá trị:\", prediction)\n",
    "\n"
   ]
  }
 ],
 "metadata": {
  "kernelspec": {
   "display_name": "anhkun",
   "language": "python",
   "name": "python3"
  },
  "language_info": {
   "codemirror_mode": {
    "name": "ipython",
    "version": 3
   },
   "file_extension": ".py",
   "mimetype": "text/x-python",
   "name": "python",
   "nbconvert_exporter": "python",
   "pygments_lexer": "ipython3",
   "version": "3.8.16"
  }
 },
 "nbformat": 4,
 "nbformat_minor": 2
}
